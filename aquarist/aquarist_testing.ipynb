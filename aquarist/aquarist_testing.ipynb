{
 "cells": [
  {
   "cell_type": "code",
   "execution_count": 13,
   "id": "adf07f2f",
   "metadata": {},
   "outputs": [
    {
     "name": "stdout",
     "output_type": "stream",
     "text": [
      "<mysql.connector.connection.MySQLConnection object at 0x000002C10CC5AC40>\n"
     ]
    }
   ],
   "source": [
    "import mysql.connector\n",
    "\n",
    "database = mysql.connector.connect(\n",
    "    host = 'localhost',\n",
    "    user = 'aq_admin',\n",
    "    password = 'aq_Password01!',\n",
    "    database = 'aquarium'\n",
    ")\n",
    "\n",
    "print(database)"
   ]
  },
  {
   "cell_type": "code",
   "execution_count": 14,
   "id": "b255f966",
   "metadata": {},
   "outputs": [],
   "source": [
    "user_id = '987153744';"
   ]
  },
  {
   "cell_type": "code",
   "execution_count": 23,
   "id": "00813e26",
   "metadata": {},
   "outputs": [
    {
     "name": "stdout",
     "output_type": "stream",
     "text": [
      "public restroom\n",
      " \n",
      "10:00:00\n",
      "public restroom\n",
      " \n",
      "12:00:00\n",
      "public restroom\n",
      " \n",
      "14:00:00\n",
      "public restroom\n",
      " \n",
      "16:00:00\n",
      "public restroom\n",
      " \n",
      "18:00:00\n"
     ]
    }
   ],
   "source": [
    "cursor = database.cursor()\n",
    "\n",
    "query = \"\\\n",
    "SELECT name AS 'Facility', maint_time AS 'Maintenance Time' \\\n",
    "FROM facility_maint \\\n",
    "LEFT JOIN facility ON facility.fa_id = facility_maint.facility \\\n",
    "LEFT JOIN maintain ON fa_id = maintain.facility \\\n",
    "WHERE maint_status = FALSE \\\n",
    "AND staff = '\" + user_id + \"' \\\n",
    "ORDER BY maint_time ASC; \"\n",
    "\n",
    "#print(query)\n",
    "\n",
    "cursor.execute(query)\n",
    "result = cursor.fetchall()\n",
    "\n",
    "for x in result:\n",
    "    print(x[0])\n",
    "    print(' ')\n",
    "    print(x[1])"
   ]
  },
  {
   "cell_type": "code",
   "execution_count": null,
   "id": "d00bbccf",
   "metadata": {},
   "outputs": [],
   "source": []
  }
 ],
 "metadata": {
  "kernelspec": {
   "display_name": "Python 3 (ipykernel)",
   "language": "python",
   "name": "python3"
  },
  "language_info": {
   "codemirror_mode": {
    "name": "ipython",
    "version": 3
   },
   "file_extension": ".py",
   "mimetype": "text/x-python",
   "name": "python",
   "nbconvert_exporter": "python",
   "pygments_lexer": "ipython3",
   "version": "3.9.12"
  }
 },
 "nbformat": 4,
 "nbformat_minor": 5
}
