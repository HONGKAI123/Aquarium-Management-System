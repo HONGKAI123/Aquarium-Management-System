{
 "cells": [
  {
   "cell_type": "code",
   "execution_count": 1,
   "id": "adf07f2f",
   "metadata": {},
   "outputs": [],
   "source": [
    "import mysql.connector\n",
    "\n",
    "database = mysql.connector.connect(\n",
    "    host = 'localhost',\n",
    "    user = 'aq_admin',\n",
    "    password = 'aq_Password01!',\n",
    "    database = 'aquarium'\n",
    ")\n",
    "\n",
    "cursor = database.cursor()"
   ]
  },
  {
   "cell_type": "code",
   "execution_count": 14,
   "id": "b255f966",
   "metadata": {},
   "outputs": [],
   "source": [
    "user_id = '608059001';\n",
    "fac_id = '300001';\n",
    "time_slot = '12:00:00';"
   ]
  },
  {
   "cell_type": "code",
   "execution_count": 3,
   "id": "8dfee5ba",
   "metadata": {},
   "outputs": [],
   "source": [
    "def check_maint_times(*arg):\n",
    "    \"\"\"\n",
    "    arg = [user_id]\n",
    "    returns list of list\n",
    "        each inner list represents a row, the first row being the column names\n",
    "        columns returned: Facility Name, Facility ID, Maintenance Time\n",
    "    \n",
    "    query returns a list of maintenance times for facilities,\n",
    "    filtered to only show which ones the current user is responsible for\n",
    "    ordered by maintenance time slot, showing the earliest first\n",
    "    \"\"\"\n",
    "    query = \"\\\n",
    "    SELECT name AS 'Facility', fa_id AS 'ID', maint_time AS 'Maintenance Time' \\\n",
    "    FROM facility_maint \\\n",
    "    LEFT JOIN facility ON facility.fa_id = facility_maint.facility \\\n",
    "    LEFT JOIN maintain ON fa_id = maintain.facility \\\n",
    "    WHERE maint_status = FALSE \\\n",
    "    AND staff = '\" + arg[0] + \"' \\\n",
    "    ORDER BY maint_time ASC;\"\n",
    "    \n",
    "    cursor.execute(query)\n",
    "\n",
    "    \"\"\"\n",
    "    # Use block below if returning query results directly\n",
    "    # RETURN FORMAT: list of tuples [('facility_name', 'fa_id', maint_time), ...]\n",
    "    result = cursor.fetchall()\n",
    "    #print(result)\n",
    "    \n",
    "    \"\"\"\n",
    "    # Use block below if returning list[rows[]]\n",
    "    # RETURN FORMAT: list of lists [['facility_name', 'fa_id', maint_time], ...]\n",
    "    result = []\n",
    "    result.append(['Facility', 'ID', 'Maintenance Time']) # Add header row\n",
    "    for x in cursor.fetchall():\n",
    "        result.append(list(x))\n",
    "    # check results\n",
    "    \"\"\"\n",
    "    for i in result:\n",
    "        print(i[0], ' ', i[1], ' ', i[2])\n",
    "    \"\"\"\n",
    "    return result"
   ]
  },
  {
   "cell_type": "code",
   "execution_count": 4,
   "id": "8caef8f1",
   "metadata": {
    "scrolled": true
   },
   "outputs": [],
   "source": [
    "def maintain_facility(*arg):\n",
    "    \"\"\"\n",
    "    arg = [user_id, fa_id, maint_time]\n",
    "    returns success or error message\n",
    "\n",
    "    take input of facility id and maintanence time slot,\n",
    "    check to make sure the input is valid for the current user,\n",
    "    then change the maintanence status to TRUE for that instance\n",
    "    \"\"\"\n",
    "    # Check if the fa_id and maint_time combo exists for current user\n",
    "    input_match = False\n",
    "    for i in check_maint_times(arg[0]):\n",
    "        if str(i[1]) == str(arg[1]) and str(i[2]) == str(arg[2]):\n",
    "            input_match = True\n",
    "\n",
    "    if input_match == True:\n",
    "        query = \"\\\n",
    "        UPDATE facility_maint \\\n",
    "        SET maint_status = true \\\n",
    "        WHERE facility = '\" + arg[1] + \"' \\\n",
    "        AND maint_time = '\" + arg[2] + \"';\"\n",
    "\n",
    "        cursor.execute(query)\n",
    "        database.commit()\n",
    "        return(\"Facility \" + arg[1] + \" maintenance scheduled for \" + arg[2] + \" has been performed.\")\n",
    "    else:\n",
    "        return(\"The selected facility + time slot combination does not exist.\")"
   ]
  },
  {
   "cell_type": "code",
   "execution_count": null,
   "id": "ef97810c",
   "metadata": {},
   "outputs": [],
   "source": []
  },
  {
   "cell_type": "code",
   "execution_count": 21,
   "id": "a6b8914a",
   "metadata": {
    "scrolled": true
   },
   "outputs": [],
   "source": [
    "# Test functions"
   ]
  },
  {
   "cell_type": "code",
   "execution_count": 15,
   "id": "3ad3fd7e",
   "metadata": {},
   "outputs": [
    {
     "name": "stdout",
     "output_type": "stream",
     "text": [
      "[['Facility', 'ID', 'Maintenance Time'], ['whale tank', '100001', datetime.timedelta(seconds=28800)], ['shark tank', '100002', datetime.timedelta(seconds=32400)], ['seal beach', '100003', datetime.timedelta(seconds=36000)], ['whale tank', '100001', datetime.timedelta(seconds=72000)], ['seal beach', '100003', datetime.timedelta(seconds=79200)]]\n"
     ]
    }
   ],
   "source": [
    "print(check_maint_times(user_id))"
   ]
  },
  {
   "cell_type": "code",
   "execution_count": 11,
   "id": "ae9ca69d",
   "metadata": {},
   "outputs": [
    {
     "data": {
      "text/plain": [
       "'The selected facility + time slot combination does not exist.'"
      ]
     },
     "execution_count": 11,
     "metadata": {},
     "output_type": "execute_result"
    }
   ],
   "source": [
    "maintain_facility(user_id, fac_id, time_slot)"
   ]
  },
  {
   "cell_type": "code",
   "execution_count": 7,
   "id": "4b1353e1",
   "metadata": {},
   "outputs": [
    {
     "name": "stdout",
     "output_type": "stream",
     "text": [
      "[('300001', datetime.timedelta(seconds=36000), 0), ('300001', datetime.timedelta(seconds=43200), 1), ('300001', datetime.timedelta(seconds=50400), 0), ('300001', datetime.timedelta(seconds=57600), 0), ('300001', datetime.timedelta(seconds=64800), 0)]\n"
     ]
    }
   ],
   "source": [
    "# Check maint table\n",
    "# arg = [fa_id]\n",
    "def check_maintain_result(*arg):\n",
    "    query = \"\\\n",
    "    SELECT * \\\n",
    "    FROM facility_maint \\\n",
    "    WHERE facility = \" + arg[0] + \";\"\n",
    "    \n",
    "    cursor.execute(query)\n",
    "    \n",
    "    print(cursor.fetchall())\n",
    "\n",
    "check_maintain_result(fac_id)"
   ]
  },
  {
   "cell_type": "code",
   "execution_count": 8,
   "id": "5c311281",
   "metadata": {},
   "outputs": [
    {
     "name": "stdout",
     "output_type": "stream",
     "text": [
      "[('300001', datetime.timedelta(seconds=36000), 0), ('300001', datetime.timedelta(seconds=43200), 0), ('300001', datetime.timedelta(seconds=50400), 0), ('300001', datetime.timedelta(seconds=57600), 0), ('300001', datetime.timedelta(seconds=64800), 0)]\n"
     ]
    }
   ],
   "source": [
    "# Reset maint\n",
    "def reset_maint_status():\n",
    "    query = \"\\\n",
    "    UPDATE facility_maint \\\n",
    "    SET maint_status = false \\\n",
    "    WHERE facility is not null;\"\n",
    "    \n",
    "    cursor.execute(query)\n",
    "    database.commit()\n",
    "\n",
    "reset_maint_status()\n",
    "check_maintain_result(fac_id)    "
   ]
  },
  {
   "cell_type": "code",
   "execution_count": null,
   "id": "bbddf703",
   "metadata": {},
   "outputs": [],
   "source": []
  }
 ],
 "metadata": {
  "kernelspec": {
   "display_name": "Python 3 (ipykernel)",
   "language": "python",
   "name": "python3"
  },
  "language_info": {
   "codemirror_mode": {
    "name": "ipython",
    "version": 3
   },
   "file_extension": ".py",
   "mimetype": "text/x-python",
   "name": "python",
   "nbconvert_exporter": "python",
   "pygments_lexer": "ipython3",
   "version": "3.9.12"
  }
 },
 "nbformat": 4,
 "nbformat_minor": 5
}
