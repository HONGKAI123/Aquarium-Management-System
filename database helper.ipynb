{
 "cells": [
  {
   "cell_type": "code",
   "execution_count": 66,
   "id": "9c648fab",
   "metadata": {},
   "outputs": [],
   "source": [
    "import mysql.connector\n",
    "import hashlib\n",
    "\n",
    "database = mysql.connector.connect(\n",
    "    host = 'localhost',\n",
    "    user = 'aq_admin',\n",
    "    password = 'aq_Password01!',\n",
    "    database = 'aquarium'\n",
    ")\n",
    "\n",
    "cursor = database.cursor()"
   ]
  },
  {
   "cell_type": "code",
   "execution_count": null,
   "id": "59a71796",
   "metadata": {},
   "outputs": [],
   "source": []
  },
  {
   "cell_type": "code",
   "execution_count": null,
   "id": "9753a49d",
   "metadata": {},
   "outputs": [],
   "source": []
  },
  {
   "cell_type": "code",
   "execution_count": null,
   "id": "eb481844",
   "metadata": {},
   "outputs": [],
   "source": []
  },
  {
   "cell_type": "code",
   "execution_count": 67,
   "id": "217711b8",
   "metadata": {},
   "outputs": [],
   "source": [
    "#for t in table_list: check_table(t)"
   ]
  },
  {
   "cell_type": "code",
   "execution_count": null,
   "id": "b6dda9c6",
   "metadata": {},
   "outputs": [],
   "source": []
  },
  {
   "cell_type": "code",
   "execution_count": null,
   "id": "755dcf78",
   "metadata": {},
   "outputs": [],
   "source": []
  },
  {
   "cell_type": "code",
   "execution_count": null,
   "id": "014236f9",
   "metadata": {},
   "outputs": [],
   "source": []
  },
  {
   "cell_type": "code",
   "execution_count": 68,
   "id": "9788d9df",
   "metadata": {},
   "outputs": [],
   "source": [
    "def hash_input(input_str):\n",
    "    \"\"\"\n",
    "    take a manually entered string value\n",
    "    return its hash value (MD5)\n",
    "    \"\"\"\n",
    "    return(hashlib.md5(input_str.encode())).hexdigest().encode()"
   ]
  },
  {
   "cell_type": "code",
   "execution_count": 69,
   "id": "cb51d357",
   "metadata": {},
   "outputs": [
    {
     "name": "stdout",
     "output_type": "stream",
     "text": [
      "b'b31782a56c833bec393b73ac25a2fc24'\n"
     ]
    }
   ],
   "source": [
    "hash_test = hash_input('517465989')\n",
    "print(hash_test)"
   ]
  },
  {
   "cell_type": "code",
   "execution_count": null,
   "id": "1948cdbe",
   "metadata": {},
   "outputs": [],
   "source": []
  },
  {
   "cell_type": "code",
   "execution_count": 70,
   "id": "71001be7",
   "metadata": {},
   "outputs": [],
   "source": [
    "def verify_user(*arg):\n",
    "    \"\"\"\n",
    "    arg = [role table, user name, password]\n",
    "    \n",
    "    check if user is in role table\n",
    "        if true, check if password is correct for that user\n",
    "            if true, RETURN a tuple of (role_table_name, st_id)\n",
    "    \"\"\"\n",
    "    \n",
    "    query = \"SELECT hashed_pw FROM \" + str(arg[0]) + \" WHERE st_id = \" + str(arg[1]) + \";\"\n",
    "    \n",
    "    cursor.execute(query)\n",
    "    \n",
    "    try:\n",
    "        stored_pw = (cursor.fetchone()[0])\n",
    "    except:\n",
    "        print('User does not exist in selected role')\n",
    "        return None\n",
    "    \n",
    "    #stored_pw = get_pw_hash(arg[0], arg[1])\n",
    "    \n",
    "    if(stored_pw == hash_input(arg[2])):\n",
    "        return((arg[0], arg[1]))\n",
    "    else:\n",
    "        print('Invalid staff ID + password combination')\n",
    "        return None"
   ]
  },
  {
   "cell_type": "code",
   "execution_count": 71,
   "id": "62da3b41",
   "metadata": {},
   "outputs": [
    {
     "data": {
      "text/plain": [
       "('director', '517465989')"
      ]
     },
     "execution_count": 71,
     "metadata": {},
     "output_type": "execute_result"
    }
   ],
   "source": [
    "verify_user('director', '517465989', '517465989')"
   ]
  },
  {
   "cell_type": "code",
   "execution_count": null,
   "id": "3c149f0c",
   "metadata": {},
   "outputs": [],
   "source": []
  },
  {
   "cell_type": "code",
   "execution_count": null,
   "id": "b7936435",
   "metadata": {},
   "outputs": [],
   "source": []
  },
  {
   "cell_type": "code",
   "execution_count": null,
   "id": "c8121df2",
   "metadata": {},
   "outputs": [],
   "source": []
  }
 ],
 "metadata": {
  "kernelspec": {
   "display_name": "Python 3 (ipykernel)",
   "language": "python",
   "name": "python3"
  },
  "language_info": {
   "codemirror_mode": {
    "name": "ipython",
    "version": 3
   },
   "file_extension": ".py",
   "mimetype": "text/x-python",
   "name": "python",
   "nbconvert_exporter": "python",
   "pygments_lexer": "ipython3",
   "version": "3.9.12"
  }
 },
 "nbformat": 4,
 "nbformat_minor": 5
}
