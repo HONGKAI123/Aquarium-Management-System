{
 "cells": [
  {
   "cell_type": "code",
   "execution_count": 1,
   "id": "50cd04fc",
   "metadata": {},
   "outputs": [],
   "source": [
    "import mysql.connector\n",
    "\n",
    "database = mysql.connector.connect(\n",
    "    host = 'localhost',\n",
    "    user = 'aq_admin',\n",
    "    password = 'aq_Password01!',\n",
    "    database = 'aquarium'\n",
    ")\n",
    "\n",
    "cursor = database.cursor()"
   ]
  },
  {
   "cell_type": "code",
   "execution_count": 2,
   "id": "a2e506bf",
   "metadata": {},
   "outputs": [],
   "source": [
    "# Helper function to make sure the animal belongs to current user\n",
    "def check_ownership(st_id, an_id):\n",
    "    try:\n",
    "        cursor.execute(\"SELECT curator FROM animal WHERE an_ID = '\" + an_id + \"';\")\n",
    "        return(st_id == str(cursor.fetchone()[0]))\n",
    "    except:\n",
    "        print(\"The animal ID you have entered does not exist\")"
   ]
  },
  {
   "cell_type": "code",
   "execution_count": 14,
   "id": "d2cf40bd",
   "metadata": {},
   "outputs": [],
   "source": [
    "# Remove existing animal by an_ID\n",
    "# arg = [st_ID, an_ID]\n",
    "def remove_animal(*arg):\n",
    "    # Make sure the animal being removed belongs to current curator\n",
    "    if check_ownership(arg[0], arg[1]) == True:\n",
    "        query = \"\\\n",
    "        DELETE FROM animal \\\n",
    "        WHERE an_ID = '\" + arg[1] + \"';\"\n",
    "\n",
    "        cursor.execute(query)\n",
    "        database.commit()\n",
    "        print(\"Animal \" + str(arg[1]) + \" is no longer with us.\")\n",
    "    else:\n",
    "        print(\"Please check staff ID and animal ID to make sure they are both valid and related\")"
   ]
  },
  {
   "cell_type": "code",
   "execution_count": 4,
   "id": "47c3f15e",
   "metadata": {},
   "outputs": [],
   "source": [
    "########## Test"
   ]
  },
  {
   "cell_type": "code",
   "execution_count": 17,
   "id": "ab45ffd9",
   "metadata": {},
   "outputs": [],
   "source": [
    "user_id = '736289249'\n",
    "an_id = '101001'"
   ]
  },
  {
   "cell_type": "code",
   "execution_count": 18,
   "id": "3c2b02ca",
   "metadata": {},
   "outputs": [
    {
     "name": "stdout",
     "output_type": "stream",
     "text": [
      "The animal ID you have entered does not exist\n"
     ]
    }
   ],
   "source": [
    "check_ownership(user_id, an_id)"
   ]
  },
  {
   "cell_type": "code",
   "execution_count": 19,
   "id": "bf8e48d1",
   "metadata": {},
   "outputs": [
    {
     "name": "stdout",
     "output_type": "stream",
     "text": [
      "The animal ID you have entered does not exist\n",
      "Please check staff ID and animal ID to make sure they are both valid and related\n"
     ]
    }
   ],
   "source": [
    "remove_animal(user_id, an_id)"
   ]
  },
  {
   "cell_type": "code",
   "execution_count": 20,
   "id": "ca14d81f",
   "metadata": {},
   "outputs": [
    {
     "name": "stdout",
     "output_type": "stream",
     "text": [
      "('101002', 'Homer', 'emperor penguin', 1, '736289249', '100004')\n",
      "('102001', 'Bart', 'blue whale', 1, '736289249', '100001')\n",
      "('103001', 'Krusty', 'spotted seal', 0, '705628448', '100003')\n",
      "('103002', 'Milhouse', 'spotted seal', 1, '705628448', '100003')\n",
      "('103003', 'Snowball', 'spotted seal', 1, '705628448', '100003')\n",
      "('105001', 'Nibbler', 'bottlenose dolphin', 0, '705628448', '100005')\n",
      "('105002', 'Simba', 'bottlenose dolphin', 0, '705628448', '100005')\n"
     ]
    }
   ],
   "source": [
    "# Check animals\n",
    "cursor.execute(\"SELECT * FROM animal;\")\n",
    "for i in cursor.fetchall():\n",
    "    print(i)"
   ]
  },
  {
   "cell_type": "code",
   "execution_count": null,
   "id": "e7bddd79",
   "metadata": {},
   "outputs": [],
   "source": []
  }
 ],
 "metadata": {
  "kernelspec": {
   "display_name": "Python 3 (ipykernel)",
   "language": "python",
   "name": "python3"
  },
  "language_info": {
   "codemirror_mode": {
    "name": "ipython",
    "version": 3
   },
   "file_extension": ".py",
   "mimetype": "text/x-python",
   "name": "python",
   "nbconvert_exporter": "python",
   "pygments_lexer": "ipython3",
   "version": "3.9.12"
  }
 },
 "nbformat": 4,
 "nbformat_minor": 5
}
